{
 "cells": [
  {
   "cell_type": "markdown",
   "id": "71f80473-d780-4690-a093-d1f38831d8ca",
   "metadata": {},
   "source": [
    "## 1. Write a Python program to reverse a string without using any built-in string reversal functions.\n"
   ]
  },
  {
   "cell_type": "code",
   "execution_count": 1,
   "id": "66fe2770-af9f-45b6-a96f-77fb60227e46",
   "metadata": {},
   "outputs": [
    {
     "name": "stdin",
     "output_type": "stream",
     "text": [
      "Enter a string:  Hello\n"
     ]
    },
    {
     "name": "stdout",
     "output_type": "stream",
     "text": [
      "Reversed string: olleH\n"
     ]
    }
   ],
   "source": [
    "n = input(\"Enter a string: \")\n",
    "reversed_str = \"\"\n",
    "\n",
    "for i in range(len(n)-1, -1, -1):\n",
    "    reversed_str += n[i]\n",
    "\n",
    "print(\"Reversed string:\", reversed_str)"
   ]
  },
  {
   "cell_type": "markdown",
   "id": "f20c9b93-15ed-456b-9fe3-d0da0ca6103e",
   "metadata": {},
   "source": [
    "## 2. Implement a function to check if a given string is a palindrome.\n"
   ]
  },
  {
   "cell_type": "code",
   "execution_count": 4,
   "id": "b4a3c72d-1368-4af8-99ab-0422f1a6e89a",
   "metadata": {},
   "outputs": [
    {
     "name": "stdin",
     "output_type": "stream",
     "text": [
      "Enter a string:  Tata\n"
     ]
    },
    {
     "name": "stdout",
     "output_type": "stream",
     "text": [
      "The string is not a palindrome.\n"
     ]
    }
   ],
   "source": [
    "def Is_Palindrome(input_str):\n",
    "    # Convert the input string to lowercase and remove spaces\n",
    "    clean_str = \"\".join(input_str.lower().split())\n",
    "\n",
    "    # Check if the clean string is equal to its reverse\n",
    "    return clean_str == clean_str[::-1]\n",
    "\n",
    "# Test the function\n",
    "string = input(\"Enter a string: \")\n",
    "if Is_Palindrome(string):\n",
    "    print(\"The string is a palindrome.\")\n",
    "else:\n",
    "    print(\"The string is not a palindrome.\")"
   ]
  },
  {
   "cell_type": "markdown",
   "id": "66738d5d-38b2-4bd7-9cfd-843e571b534d",
   "metadata": {},
   "source": [
    "## 3. Write a program to find the largest element in a given list.\n"
   ]
  },
  {
   "cell_type": "code",
   "execution_count": 8,
   "id": "61b79ebd-ed44-4eeb-b4a6-de2c8469aee8",
   "metadata": {},
   "outputs": [],
   "source": [
    "def find_largest_element(lst):\n",
    "    if len(lst) == 0:\n",
    "        return None\n",
    "    \n",
    "    return max(lst)"
   ]
  },
  {
   "cell_type": "markdown",
   "id": "08b58bf0-eaea-4943-9d18-e97f1219e243",
   "metadata": {},
   "source": [
    "## 4. Implement a function to count the occurrence of each element in a list."
   ]
  },
  {
   "cell_type": "code",
   "execution_count": 9,
   "id": "19df04d2-57d7-4a1f-ac03-e016f0141bab",
   "metadata": {},
   "outputs": [],
   "source": [
    "def count_occurrences(lst):\n",
    "    count_dict = {}\n",
    "\n",
    "    for element in lst:\n",
    "        if element in count_dict:\n",
    "            count_dict[element] += 1\n",
    "        else:\n",
    "            count_dict[element] = 1\n",
    "\n",
    "    return count_dict"
   ]
  },
  {
   "cell_type": "markdown",
   "id": "862b7362-0447-49d2-92f2-a59c2c534880",
   "metadata": {},
   "source": [
    "## 5. Write a Python program to find the second largest number in a list.\n"
   ]
  },
  {
   "cell_type": "code",
   "execution_count": 10,
   "id": "0c36542b-3815-4b5e-b552-72694739a56c",
   "metadata": {},
   "outputs": [],
   "source": [
    "def find_second_largest(lst):\n",
    "    if len(lst) < 2:\n",
    "        return None\n",
    "\n",
    "    lst = sorted(lst, reverse=True)\n",
    "    return lst[1]\n"
   ]
  },
  {
   "cell_type": "markdown",
   "id": "b81e374d-aa5b-4949-8522-8bea043a95f4",
   "metadata": {},
   "source": [
    "## 6. Implement a function to remove duplicate elements from a list"
   ]
  },
  {
   "cell_type": "code",
   "execution_count": 11,
   "id": "2dd77c87-f909-4092-8e38-179f6937faaf",
   "metadata": {},
   "outputs": [],
   "source": [
    "def remove_duplicates(lst):\n",
    "    unique_list = []\n",
    "    for item in lst:\n",
    "        if item not in unique_list:\n",
    "            unique_list.append(item)\n",
    "    return unique_list"
   ]
  },
  {
   "cell_type": "markdown",
   "id": "3f1b4f5a-5d80-4a00-96cd-5475e94078c5",
   "metadata": {},
   "source": [
    "## 7. Write a program to calculate the factorial of a given number.\n"
   ]
  },
  {
   "cell_type": "code",
   "execution_count": 12,
   "id": "516040a0-1fa9-4403-8780-adfe26545a99",
   "metadata": {},
   "outputs": [],
   "source": [
    "def factorial(n):\n",
    "    if n == 0:\n",
    "        return 1\n",
    "\n",
    "    result = 1\n",
    "    for i in range(1, n + 1):\n",
    "        result *= i\n",
    "\n",
    "    return result"
   ]
  },
  {
   "cell_type": "markdown",
   "id": "10af8eca-4f28-44c7-b122-d654ed42cd8a",
   "metadata": {},
   "source": [
    "## 8. Implement a function to check if a given number is prime.\n"
   ]
  },
  {
   "cell_type": "code",
   "execution_count": 13,
   "id": "e33c9953-7ab0-44c3-8cf5-db30bf37b58e",
   "metadata": {},
   "outputs": [
    {
     "name": "stdin",
     "output_type": "stream",
     "text": [
      "Enter a number:  51\n"
     ]
    },
    {
     "name": "stdout",
     "output_type": "stream",
     "text": [
      "51 is not a prime number.\n"
     ]
    }
   ],
   "source": [
    "def is_prime(number):\n",
    "    if number < 2:\n",
    "        return False\n",
    "\n",
    "    for i in range(2, number):\n",
    "        if number % i == 0:\n",
    "            return False\n",
    "\n",
    "    return True\n",
    "\n",
    "# Test the function\n",
    "number = int(input(\"Enter a number: \"))\n",
    "if is_prime(number):\n",
    "    print(number, \"is a prime number.\")\n",
    "else:\n",
    "    print(number, \"is not a prime number.\")"
   ]
  },
  {
   "cell_type": "markdown",
   "id": "bba4297d-b81e-490e-8929-7b7425f8dfe0",
   "metadata": {},
   "source": [
    "## 9. Write a Python program to sort a list of integers in ascending order.\n"
   ]
  },
  {
   "cell_type": "code",
   "execution_count": 1,
   "id": "9447ba2c-6876-4e79-bf24-d5438e1455f1",
   "metadata": {},
   "outputs": [],
   "source": [
    "def sort_list(lst):\n",
    "    sorted_lst = sorted(lst)\n",
    "    return sorted_lst"
   ]
  },
  {
   "cell_type": "markdown",
   "id": "2df4a43b-cc95-4eb1-a4c0-4b5159fd6520",
   "metadata": {},
   "source": [
    "## 10. Implement a function to find the sum of all numbers in a list."
   ]
  },
  {
   "cell_type": "code",
   "execution_count": 2,
   "id": "fb76b4d3-0dee-4255-9cf5-994566b7aa73",
   "metadata": {},
   "outputs": [],
   "source": [
    "def sum_of_numbers(lst):\n",
    "    sum = 0\n",
    "    for num in lst:\n",
    "        sum += num\n",
    "    return sum\n"
   ]
  },
  {
   "cell_type": "markdown",
   "id": "b6c2ad9c-83d5-445b-9bd0-1e2cc5fb5ef4",
   "metadata": {},
   "source": [
    "## 11. Write a program to find the common elements between two lists.\n"
   ]
  },
  {
   "cell_type": "code",
   "execution_count": 3,
   "id": "54861961-0eb7-4706-8a6f-9e45b7945283",
   "metadata": {},
   "outputs": [],
   "source": [
    "def find_common_elements(list1, list2):\n",
    "    set1 = set(list1)\n",
    "    set2 = set(list2)\n",
    "    common_elements = list(set1.intersection(set2))\n",
    "    return common_elements"
   ]
  },
  {
   "cell_type": "markdown",
   "id": "228a2c6c-836b-4597-8c88-3844496ec495",
   "metadata": {},
   "source": [
    "## 12. Implement a function to check if a given string is an anagram of another string.\n"
   ]
  },
  {
   "cell_type": "code",
   "execution_count": 4,
   "id": "fefc25fa-8640-4bcd-92b0-d1aa73dd6587",
   "metadata": {},
   "outputs": [],
   "source": [
    "def is_anagram(str1, str2):\n",
    "    # Remove spaces and convert to lowercase\n",
    "    str1 = str1.replace(\" \", \"\").lower()\n",
    "    str2 = str2.replace(\" \", \"\").lower()\n",
    "    \n",
    "    # Check if the lengths of the strings are the same\n",
    "    if len(str1) != len(str2):\n",
    "        return False\n",
    "\n",
    "    # Compare sorted versions of the strings\n",
    "    return sorted(str1) == sorted(str2)"
   ]
  },
  {
   "cell_type": "markdown",
   "id": "b85453c7-c8bb-4b66-bbbc-7cf72b862301",
   "metadata": {},
   "source": [
    "## 13. Write a Python program to generate all permutations of a given string.\n"
   ]
  },
  {
   "cell_type": "code",
   "execution_count": 5,
   "id": "0a477eb7-4a75-4137-b15b-2e338ac4b8df",
   "metadata": {},
   "outputs": [],
   "source": [
    "from itertools import permutations\n",
    "\n",
    "def generate_permutations(string):\n",
    "    return [''.join(perm) for perm in permutations(string)]"
   ]
  },
  {
   "cell_type": "markdown",
   "id": "bf518ab2-360c-4b82-b70e-7e0d30e45cb5",
   "metadata": {},
   "source": [
    "## 14. Implement a function to calculate the Fibonacci sequence up to a given number of terms.\n"
   ]
  },
  {
   "cell_type": "code",
   "execution_count": 6,
   "id": "223c332f-ca08-4f58-8577-bc14dc4006a6",
   "metadata": {},
   "outputs": [],
   "source": [
    "def fibonacci_sequence(n):\n",
    "    if n <= 0:\n",
    "        return []\n",
    "    elif n == 1:\n",
    "        return [0]\n",
    "\n",
    "    sequence = [0, 1]\n",
    "    while len(sequence) < n:\n",
    "        next_term = sequence[-1] + sequence[-2]\n",
    "        sequence.append(next_term)\n",
    "\n",
    "    return sequence"
   ]
  },
  {
   "cell_type": "markdown",
   "id": "76b510aa-0d40-4489-9c31-28c77dac9cc2",
   "metadata": {},
   "source": [
    "## 15. Write a program to find the median of a list of numbers."
   ]
  },
  {
   "cell_type": "code",
   "execution_count": 7,
   "id": "d9deab4f-f3d4-40c1-bb74-f2a5fbab5788",
   "metadata": {},
   "outputs": [],
   "source": [
    "def find_median(numbers):\n",
    "    sorted_numbers = sorted(numbers)\n",
    "    n = len(sorted_numbers)\n",
    "    middle_index = n // 2\n",
    "\n",
    "    if n % 2 == 0:\n",
    "        # If the number of elements is even, take the average of the middle two elements\n",
    "        median = (sorted_numbers[middle_index - 1] + sorted_numbers[middle_index]) / 2\n",
    "    else:\n",
    "        # If the number of elements is odd, take the middle element as the median\n",
    "        median = sorted_numbers[middle_index]\n",
    "\n",
    "    return median"
   ]
  },
  {
   "cell_type": "markdown",
   "id": "944f0728-544e-48bf-9ba9-27e57d02cc4d",
   "metadata": {},
   "source": [
    "## 16. Implement a function to check if a given list is sorted in non-decreasing order.\n"
   ]
  },
  {
   "cell_type": "code",
   "execution_count": 8,
   "id": "a11fe356-0ee8-447c-a79a-1513db035d23",
   "metadata": {},
   "outputs": [],
   "source": [
    "def is_sorted(numbers):\n",
    "    n = len(numbers)\n",
    "    for i in range(1, n):\n",
    "        if numbers[i] < numbers[i-1]:\n",
    "            return False\n",
    "    return True"
   ]
  },
  {
   "cell_type": "markdown",
   "id": "50b53ded-bd0a-4a4d-95cd-6bbd79087bde",
   "metadata": {},
   "source": [
    "## 17. Write a Python program to find the intersection of two lists."
   ]
  },
  {
   "cell_type": "code",
   "execution_count": 9,
   "id": "6390415e-a931-44d4-966a-4aaaba958452",
   "metadata": {},
   "outputs": [],
   "source": [
    "def find_intersection(list1, list2):\n",
    "    intersection = []\n",
    "    for element in list1:\n",
    "        if element in list2 and element not in intersection:\n",
    "            intersection.append(element)\n",
    "    return intersection\n"
   ]
  },
  {
   "cell_type": "markdown",
   "id": "6dd25e19-fa6c-40d9-a33b-912b8102ac73",
   "metadata": {},
   "source": [
    "## 18. Implement a function to find the maximum subarray sum in a given list."
   ]
  },
  {
   "cell_type": "code",
   "execution_count": 10,
   "id": "6ac84f12-fe80-47e6-85b2-72a0e434f600",
   "metadata": {},
   "outputs": [],
   "source": [
    "def max_subarray_sum(arr):\n",
    "    max_sum = float('-inf')\n",
    "    current_sum = 0\n",
    "\n",
    "    for num in arr:\n",
    "        current_sum += num\n",
    "        if current_sum > max_sum:\n",
    "            max_sum = current_sum\n",
    "        if current_sum < 0:\n",
    "            current_sum = 0\n",
    "\n",
    "    return max_sum"
   ]
  },
  {
   "cell_type": "markdown",
   "id": "ce7eea22-d933-4608-8289-e7fe0ce57d85",
   "metadata": {},
   "source": [
    "## 19. Write a program to remove all vowels from a given string.\n"
   ]
  },
  {
   "cell_type": "code",
   "execution_count": 11,
   "id": "a7a718e8-0175-4242-b471-d3e63f25d2c2",
   "metadata": {},
   "outputs": [],
   "source": [
    "def remove_vowels(string):\n",
    "    vowels = 'aeiouAEIOU'\n",
    "    vowels_removed = ''\n",
    "    for char in string:\n",
    "        if char not in vowels:\n",
    "            vowels_removed += char\n",
    "    return vowels_removed"
   ]
  },
  {
   "cell_type": "markdown",
   "id": "60c2dc4a-44e3-486b-b8d6-86669edb9ef7",
   "metadata": {},
   "source": [
    "## 20. Implement a function to reverse the order of words in a given sentence."
   ]
  },
  {
   "cell_type": "code",
   "execution_count": 15,
   "id": "3be8c50a-1ba7-4fd4-9941-c4aa42f32b85",
   "metadata": {},
   "outputs": [
    {
     "name": "stdin",
     "output_type": "stream",
     "text": [
      "Enter a sentence:  I am girl\n"
     ]
    },
    {
     "name": "stdout",
     "output_type": "stream",
     "text": [
      "Reversed sentence: girl am I\n"
     ]
    }
   ],
   "source": [
    "def reverse_sentence(sentence):\n",
    "    words = sentence.split()\n",
    "    reversed_words = words[::-1]\n",
    "    reversed_sentence = ' '.join(reversed_words)\n",
    "    return reversed_sentence\n",
    "sentence = input(\"Enter a sentence: \")\n",
    "reversed_sentence = reverse_sentence(sentence)\n",
    "print(\"Reversed sentence:\", reversed_sentence)"
   ]
  },
  {
   "cell_type": "markdown",
   "id": "e3e086af-59d3-4bb0-a088-b7e2d59646a2",
   "metadata": {},
   "source": [
    "## 21. Write a Python program to check if two strings are anagrams of each other.\n"
   ]
  },
  {
   "cell_type": "code",
   "execution_count": 16,
   "id": "ed657dd1-8999-4b24-90be-5cbe7332e2f8",
   "metadata": {},
   "outputs": [],
   "source": [
    "def are_anagrams(str1, str2):\n",
    "    # Remove spaces and convert to lowercase\n",
    "    str1 = str1.replace(\" \", \"\").lower()\n",
    "    str2 = str2.replace(\" \", \"\").lower()\n",
    "\n",
    "    # Sort the characters in both strings\n",
    "    sorted_str1 = sorted(str1)\n",
    "    sorted_str2 = sorted(str2)\n",
    "\n",
    "    # Compare the sorted strings\n",
    "    return sorted_str1 == sorted_str2"
   ]
  },
  {
   "cell_type": "markdown",
   "id": "75422481-c7d2-44a7-b887-d96e13bf12b7",
   "metadata": {},
   "source": [
    "## 22. Implement a function to find the first non-repeating character in a string.\n"
   ]
  },
  {
   "cell_type": "code",
   "execution_count": 1,
   "id": "bb82f8ea-8da6-430e-aaab-1dc1ca6c3171",
   "metadata": {},
   "outputs": [],
   "source": [
    "def find_first_non_repeating_char(string):\n",
    "    char_count = {}\n",
    "    non_repeating_chars = []\n",
    "\n",
    "    # Count the occurrences of each character in the string\n",
    "    for char in string:\n",
    "        if char in char_count:\n",
    "            char_count[char] += 1\n",
    "        else:\n",
    "            char_count[char] = 1\n",
    "            non_repeating_chars.append(char)\n",
    "\n",
    "    # Find the first non-repeating character\n",
    "    for char in non_repeating_chars:\n",
    "        if char_count[char] == 1:\n",
    "            return char\n",
    "\n",
    "    return None  # Return None if no non-repeating character is found"
   ]
  },
  {
   "cell_type": "markdown",
   "id": "08c4ea7b-ae67-4814-967c-e7029ae7cf50",
   "metadata": {},
   "source": [
    "## 23. Write a program to find the prime factors of a given number.\n"
   ]
  },
  {
   "cell_type": "code",
   "execution_count": 2,
   "id": "e7c46e56-7a86-492d-913d-219b21f8615a",
   "metadata": {},
   "outputs": [],
   "source": [
    "def find_prime_factors(number):\n",
    "    prime_factors = []\n",
    "    divisor = 2\n",
    "\n",
    "    while divisor * divisor <= number:\n",
    "        if number % divisor == 0:\n",
    "            prime_factors.append(divisor)\n",
    "            number //= divisor\n",
    "        else:\n",
    "            divisor += 1\n",
    "\n",
    "    if number > 1:\n",
    "        prime_factors.append(number)\n",
    "\n",
    "    return prime_factors\n"
   ]
  },
  {
   "cell_type": "markdown",
   "id": "af94629a-46b5-49bb-ad37-59f0cbbb88ef",
   "metadata": {},
   "source": [
    "## 24. Implement a function to check if a given number is a power of two."
   ]
  },
  {
   "cell_type": "code",
   "execution_count": 5,
   "id": "04a99483-7bdd-47be-a1cc-bf88409a8430",
   "metadata": {},
   "outputs": [
    {
     "name": "stdin",
     "output_type": "stream",
     "text": [
      "Enter a number:  9\n"
     ]
    },
    {
     "name": "stdout",
     "output_type": "stream",
     "text": [
      "9 is not a power of two.\n"
     ]
    }
   ],
   "source": [
    "def is_power_of_two(number):\n",
    "    if number <= 0:\n",
    "        return False\n",
    "\n",
    "    # Check if the number is a power of two using bitwise AND\n",
    "    return (number & (number - 1)) == 0 and number != 0\n",
    "\n",
    "# Test the function\n",
    "number = int(input(\"Enter a number: \"))\n",
    "\n",
    "if is_power_of_two(number):\n",
    "    print(number, \"is a power of two.\")\n",
    "else:\n",
    "    print(number, \"is not a power of two.\")"
   ]
  },
  {
   "cell_type": "markdown",
   "id": "ebbc37ed-7caa-4266-96a0-9d1050d02141",
   "metadata": {},
   "source": [
    "## 25. Write a Python program to merge two sorted lists into a single sorted list.\n"
   ]
  },
  {
   "cell_type": "code",
   "execution_count": 6,
   "id": "9d713b9f-9d0e-4d24-93fb-24a966eadb86",
   "metadata": {},
   "outputs": [],
   "source": [
    "def merge_sorted_lists(list1, list2):\n",
    "    merged_list = sorted(list1 + list2)\n",
    "    return merged_list"
   ]
  },
  {
   "cell_type": "markdown",
   "id": "bf8cd376-60dd-4e16-9d22-629874c0d234",
   "metadata": {},
   "source": [
    "## 26. Implement a function to find the mode of a list of numbers.\n"
   ]
  },
  {
   "cell_type": "code",
   "execution_count": 7,
   "id": "9074ce49-09bd-4a20-b7d8-26d2e0ef842f",
   "metadata": {},
   "outputs": [],
   "source": [
    "from collections import Counter\n",
    "\n",
    "def find_mode(numbers):\n",
    "    # Count the occurrences of each number\n",
    "    count = Counter(numbers)\n",
    "    \n",
    "    # Find the maximum count\n",
    "    max_count = max(count.values())\n",
    "    \n",
    "    # Find the numbers with maximum count\n",
    "    mode = [num for num, freq in count.items() if freq == max_count]\n",
    "    \n",
    "    return mode\n"
   ]
  },
  {
   "cell_type": "markdown",
   "id": "7d66bd88-39ea-4fbe-9809-6fdb935f8d55",
   "metadata": {},
   "source": [
    "## 27. Write a program to find the greatest common divisor (GCD) of two numbers.\n"
   ]
  },
  {
   "cell_type": "code",
   "execution_count": 8,
   "id": "c29278c8-6dc6-4b7b-91e1-7cbe67011033",
   "metadata": {},
   "outputs": [],
   "source": [
    "def gcd(a, b):\n",
    "    # Ensure a is always greater than or equal to b\n",
    "    if b > a:\n",
    "        a, b = b, a\n",
    "\n",
    "    while b != 0:\n",
    "        remainder = a % b\n",
    "        a = b\n",
    "        b = remainder\n",
    "\n",
    "    return a"
   ]
  },
  {
   "cell_type": "markdown",
   "id": "34578579-29ea-4786-985a-2a870317bbb5",
   "metadata": {},
   "source": [
    "## 28. Implement a function to calculate the square root of a given number.\n"
   ]
  },
  {
   "cell_type": "code",
   "execution_count": 9,
   "id": "91e637b1-ed7e-4e21-b44a-f563879a1904",
   "metadata": {},
   "outputs": [],
   "source": [
    "def square_root(number):\n",
    "    if number < 0:\n",
    "        raise ValueError(\"Square root undefined for negative numbers\")\n",
    "\n",
    "    if number == 0:\n",
    "        return 0\n",
    "\n",
    "    guess = number / 2\n",
    "    prev_guess = 0\n",
    "\n",
    "    while guess != prev_guess:\n",
    "        prev_guess = guess\n",
    "        guess = (guess + number / guess) / 2\n",
    "\n",
    "    return guess"
   ]
  },
  {
   "cell_type": "markdown",
   "id": "0a339c48-6ca8-43d8-bf58-79b1a866c3ee",
   "metadata": {},
   "source": [
    "## 29. Write a Python program to check if a given string is a valid palindrome ignoring non-alphanumeric characters.\n"
   ]
  },
  {
   "cell_type": "code",
   "execution_count": 10,
   "id": "48fd1eeb-7edf-47e3-a5d3-2c8877d88c4b",
   "metadata": {},
   "outputs": [],
   "source": [
    "import re\n",
    "\n",
    "def is_valid_palindrome(s):\n",
    "    # Remove non-alphanumeric characters\n",
    "    alphanumeric_s = re.sub(r'[^a-zA-Z0-9]', '', s)\n",
    "    \n",
    "    # Convert to lowercase\n",
    "    alphanumeric_s = alphanumeric_s.lower()\n",
    "    \n",
    "    # Check if the alphanumeric string is a palindrome\n",
    "    return alphanumeric_s == alphanumeric_s[::-1]"
   ]
  },
  {
   "cell_type": "markdown",
   "id": "d91d5e14-439e-4254-b1c7-808c002bbb48",
   "metadata": {},
   "source": [
    "## 30. Implement a function to find the minimum element in a rotated sorted list.\n"
   ]
  },
  {
   "cell_type": "code",
   "execution_count": 11,
   "id": "56c6fdbb-e3c4-45f5-9fe7-e345679aad8f",
   "metadata": {},
   "outputs": [],
   "source": [
    "def find_min_element(nums):\n",
    "    left = 0\n",
    "    right = len(nums) - 1\n",
    "\n",
    "    while left < right:\n",
    "        mid = (left + right) // 2\n",
    "\n",
    "        if nums[mid] > nums[right]:\n",
    "            left = mid + 1\n",
    "        else:\n",
    "            right = mid\n",
    "\n",
    "    return nums[left]"
   ]
  },
  {
   "cell_type": "markdown",
   "id": "58887dc1-b983-4afe-85b0-57e47f60856c",
   "metadata": {},
   "source": [
    "## 31. Write a program to find the sum of all even numbers in a list.\n"
   ]
  },
  {
   "cell_type": "code",
   "execution_count": 12,
   "id": "c6ed6423-d5b2-4a43-844e-7594f0e350ad",
   "metadata": {},
   "outputs": [],
   "source": [
    "def sum_even_numbers(numbers):\n",
    "    sum_even = 0\n",
    "\n",
    "    for num in numbers:\n",
    "        if num % 2 == 0:\n",
    "            sum_even += num\n",
    "\n",
    "    return sum_even"
   ]
  },
  {
   "cell_type": "markdown",
   "id": "eeba6422-d259-4e11-9935-820d18f3deed",
   "metadata": {},
   "source": [
    "## 32. Implement a function to calculate the power of a number using recursion."
   ]
  },
  {
   "cell_type": "code",
   "execution_count": 13,
   "id": "36882b1b-6daa-437a-a569-4f1c3b412561",
   "metadata": {},
   "outputs": [],
   "source": [
    "def power(base, exponent):\n",
    "    if exponent == 0:\n",
    "        return 1\n",
    "    elif exponent < 0:\n",
    "        return 1 / power(base, -exponent)\n",
    "\n",
    "    result = 1\n",
    "    while exponent > 0:\n",
    "        if exponent % 2 == 1:\n",
    "            result *= base\n",
    "        base *= base\n",
    "        exponent //= 2\n",
    "\n",
    "    return result"
   ]
  },
  {
   "cell_type": "markdown",
   "id": "692e0ce8-ff10-43c3-a055-f70659428d06",
   "metadata": {},
   "source": [
    "## 33. Write a Python program to remove duplicates from a list while preserving the order."
   ]
  },
  {
   "cell_type": "code",
   "execution_count": 14,
   "id": "ac8dbd33-d8fe-4cdf-981a-790c38ec9e74",
   "metadata": {},
   "outputs": [],
   "source": [
    "def remove_duplicates_preserve_order(lst):\n",
    "    unique_list = []\n",
    "    seen = set()\n",
    "\n",
    "    for item in lst:\n",
    "        if item not in seen:\n",
    "            unique_list.append(item)\n",
    "            seen.add(item)\n",
    "\n",
    "    return unique_list"
   ]
  },
  {
   "cell_type": "markdown",
   "id": "419b2d04-eebf-445a-ba36-2c2058750905",
   "metadata": {},
   "source": [
    "## 34. Implement a function to find the longest common prefix among a list of strings.\n"
   ]
  },
  {
   "cell_type": "code",
   "execution_count": 15,
   "id": "53a3c7f3-5f96-45ad-81eb-eab91f0a525f",
   "metadata": {},
   "outputs": [],
   "source": [
    "def longest_common_prefix(strings):\n",
    "    if not strings:\n",
    "        return \"\"\n",
    "\n",
    "    shortest_string = min(strings, key=len)\n",
    "    prefix = \"\"\n",
    "\n",
    "    for i in range(len(shortest_string)):\n",
    "        if all(string[i] == shortest_string[i] for string in strings):\n",
    "            prefix += shortest_string[i]\n",
    "        else:\n",
    "            break\n",
    "\n",
    "    return prefix"
   ]
  },
  {
   "cell_type": "markdown",
   "id": "9757971b-c63b-4554-bf39-41c7a661cfa5",
   "metadata": {},
   "source": [
    "## 35. Write a program to check if a given number is a perfect square."
   ]
  },
  {
   "cell_type": "code",
   "execution_count": 16,
   "id": "c1d3dd0f-aa3c-4dc9-9c65-16460905a71a",
   "metadata": {},
   "outputs": [],
   "source": [
    "def is_perfect_square(number):\n",
    "    if number < 0:\n",
    "        return False\n",
    "\n",
    "    root = int(number ** 0.5)\n",
    "    return root * root == number"
   ]
  },
  {
   "cell_type": "markdown",
   "id": "832848de-e65f-409d-990b-3ad728e99ddf",
   "metadata": {},
   "source": [
    "## 36. Implement a function to calculate the product of all elements in a list.\n"
   ]
  },
  {
   "cell_type": "code",
   "execution_count": 17,
   "id": "3e65b249-1b27-4441-ac39-2bb5b7f32de2",
   "metadata": {},
   "outputs": [],
   "source": [
    "def calculate_product(numbers):\n",
    "    product = 1\n",
    "\n",
    "    for num in numbers:\n",
    "        product *= num\n",
    "\n",
    "    return product\n"
   ]
  },
  {
   "cell_type": "markdown",
   "id": "4c1c0a39-6220-44a9-929d-ba630ba299e2",
   "metadata": {},
   "source": [
    "## 37. Write a Python program to reverse the order of words in a sentence while preserving the word order."
   ]
  },
  {
   "cell_type": "code",
   "execution_count": 18,
   "id": "76df83c9-f26e-47f4-b3bf-3bc129ba4c96",
   "metadata": {},
   "outputs": [],
   "source": [
    "def reverse_word_order(sentence):\n",
    "    words = sentence.split()\n",
    "    reversed_sentence = ' '.join(words[::-1])\n",
    "    return reversed_sentence\n"
   ]
  },
  {
   "cell_type": "markdown",
   "id": "43fac66b-e72c-4fb2-910d-93673402f5ad",
   "metadata": {},
   "source": [
    "## 38. Implement a function to find the missing number in a given list of consecutive numbers.\n"
   ]
  },
  {
   "cell_type": "code",
   "execution_count": 19,
   "id": "5c1e80b5-3b85-4d0d-9874-98b0cc5c632c",
   "metadata": {},
   "outputs": [],
   "source": [
    "def find_missing_number(numbers):\n",
    "    n = len(numbers) + 1\n",
    "    expected_sum = (n * (n + 1)) // 2\n",
    "    actual_sum = sum(numbers)\n",
    "    missing_number = expected_sum - actual_sum\n",
    "    return missing_number\n"
   ]
  },
  {
   "cell_type": "markdown",
   "id": "b1aa1c43-1626-4e3d-822d-c5b36f5aa1d7",
   "metadata": {},
   "source": [
    "## 39. Write a program to find the sum of digits of a given number.\n"
   ]
  },
  {
   "cell_type": "code",
   "execution_count": 20,
   "id": "f795c5c7-a19f-4db6-9e42-51b0a9d1a581",
   "metadata": {},
   "outputs": [],
   "source": [
    "def sum_of_digits(number):\n",
    "    # Convert the number to a string\n",
    "    number_str = str(number)\n",
    "\n",
    "    # Initialize the sum\n",
    "    digit_sum = 0\n",
    "\n",
    "    # Iterate over each digit\n",
    "    for digit in number_str:\n",
    "        # Convert the digit back to an integer and add it to the sum\n",
    "        digit_sum += int(digit)\n",
    "\n",
    "    return digit_sum"
   ]
  },
  {
   "cell_type": "markdown",
   "id": "7a163eeb-38ec-4851-b7d0-4f58e95cac79",
   "metadata": {},
   "source": [
    "## 40. Implement a function to check if a given string is a valid palindrome considering case sensitivity.\n"
   ]
  },
  {
   "cell_type": "code",
   "execution_count": 21,
   "id": "15edb70c-db38-4692-9a27-a66c03ef025f",
   "metadata": {},
   "outputs": [],
   "source": [
    "def is_valid_palindrome(s):\n",
    "    # Remove non-alphanumeric characters and convert to lowercase\n",
    "    alphanumeric_s = ''.join(ch.lower() for ch in s if ch.isalnum())\n",
    "\n",
    "    # Check if the alphanumeric string is a palindrome\n",
    "    return alphanumeric_s == alphanumeric_s[::-1]"
   ]
  },
  {
   "cell_type": "markdown",
   "id": "0de960e7-e090-4596-9021-e8024e846a8f",
   "metadata": {},
   "source": [
    "## 41. Write a Python program to find the smallest missing positive integer in a list."
   ]
  },
  {
   "cell_type": "code",
   "execution_count": 22,
   "id": "0ddb87c3-7d61-4102-9566-a19cbbed1e4d",
   "metadata": {},
   "outputs": [],
   "source": [
    "def find_smallest_missing_positive(nums):\n",
    "    # Remove non-positive integers and duplicates\n",
    "    nums = set(filter(lambda x: x > 0, nums))\n",
    "\n",
    "    # Check each positive integer starting from 1\n",
    "    smallest_missing = 1\n",
    "    while smallest_missing in nums:\n",
    "        smallest_missing += 1\n",
    "\n",
    "    return smallest_missing\n"
   ]
  },
  {
   "cell_type": "markdown",
   "id": "4ff9a902-adef-415b-91d1-2cb49191fd83",
   "metadata": {},
   "source": [
    "## 42. Implement a function to find the longest palindrome substring in a given string.\n"
   ]
  },
  {
   "cell_type": "code",
   "execution_count": 23,
   "id": "63d6cc8d-3307-4c67-a17f-3a5949ccc752",
   "metadata": {},
   "outputs": [],
   "source": [
    "def longest_palindrome(s):\n",
    "    n = len(s)\n",
    "    if n < 2:\n",
    "        return s\n",
    "\n",
    "    start = end = 0  # Starting and ending indices of the longest palindrome\n",
    "\n",
    "    for i in range(n):\n",
    "        # Check for odd-length palindromes with the current character as the center\n",
    "        left = right = i\n",
    "        while left >= 0 and right < n and s[left] == s[right]:\n",
    "            left -= 1\n",
    "            right += 1\n",
    "\n",
    "        if right - left - 1 > end - start + 1:\n",
    "            start = left + 1\n",
    "            end = right - 1\n",
    "\n",
    "        # Check for even-length palindromes with the current character and its right neighbor as centers\n",
    "        left = i\n",
    "        right = i + 1\n",
    "        while left >= 0 and right < n and s[left] == s[right]:\n",
    "            left -= 1\n",
    "            right += 1\n",
    "\n",
    "        if right - left - 1 > end - start + 1:\n",
    "            start = left + 1\n",
    "            end = right - 1\n",
    "\n",
    "    return s[start:end+1]"
   ]
  },
  {
   "cell_type": "markdown",
   "id": "83f6174d-5886-4a2d-96dd-a2d32bb3b9bb",
   "metadata": {},
   "source": [
    "## 43. Write a program to find the number of occurrences of a given element in a list"
   ]
  },
  {
   "cell_type": "code",
   "execution_count": 24,
   "id": "d3075279-caa3-40bf-b757-471365aac849",
   "metadata": {},
   "outputs": [],
   "source": [
    "def count_occurrences(nums, target):\n",
    "    count = 0\n",
    "    for num in nums:\n",
    "        if num == target:\n",
    "            count += 1\n",
    "    return count\n",
    "\n"
   ]
  },
  {
   "cell_type": "markdown",
   "id": "9dd94d57-be3b-4096-811d-bc627d0a7d54",
   "metadata": {},
   "source": [
    "## 44. Implement a function to check if a given number is a perfect number.\n"
   ]
  },
  {
   "cell_type": "code",
   "execution_count": 25,
   "id": "2599ff7b-c5ca-4e48-b733-2dd4f9ceaadf",
   "metadata": {},
   "outputs": [],
   "source": [
    "def is_perfect_number(num):\n",
    "    if num <= 0:\n",
    "        return False\n",
    "\n",
    "    divisors = [1]  # List to store the divisors of the number\n",
    "\n",
    "    # Find all proper divisors of the number\n",
    "    for i in range(2, int(num**0.5) + 1):\n",
    "        if num % i == 0:\n",
    "            divisors.append(i)\n",
    "            if i != num // i:\n",
    "                divisors.append(num // i)\n",
    "\n",
    "    # Check if the sum of divisors equals the number itself\n",
    "    return sum(divisors) == num\n"
   ]
  },
  {
   "cell_type": "markdown",
   "id": "ac601cc8-9253-4c3d-b576-929197ac442d",
   "metadata": {},
   "source": [
    "## 45. Write a Python program to remove all duplicates from a string.\n"
   ]
  },
  {
   "cell_type": "code",
   "execution_count": 26,
   "id": "7a285401-bf2e-48c7-86a6-6725dfb6f781",
   "metadata": {},
   "outputs": [],
   "source": [
    "def remove_duplicates(string):\n",
    "    # Create a set to store unique characters\n",
    "    unique_chars = set()\n",
    "\n",
    "    # Create a new string without duplicates\n",
    "    new_string = ''\n",
    "    for char in string:\n",
    "        if char not in unique_chars:\n",
    "            unique_chars.add(char)\n",
    "            new_string += char\n",
    "\n",
    "    return new_string"
   ]
  },
  {
   "cell_type": "markdown",
   "id": "197dc65f-474c-4ea1-a05b-ec9aff87550d",
   "metadata": {},
   "source": [
    "## 46. Implement a function to find the first missing positive\n"
   ]
  },
  {
   "cell_type": "code",
   "execution_count": 27,
   "id": "fc1eaa0b-e34f-4478-b7d0-b6ced9146742",
   "metadata": {},
   "outputs": [],
   "source": [
    "def first_missing_positive(nums):\n",
    "    n = len(nums)\n",
    "\n",
    "    # Move all non-positive integers to the left side of the list\n",
    "    # and count the number of positive integers\n",
    "    positive_count = 0\n",
    "    for i in range(n):\n",
    "        if nums[i] <= 0:\n",
    "            nums[i], nums[positive_count] = nums[positive_count], nums[i]\n",
    "            positive_count += 1\n",
    "\n",
    "    # Consider only the positive integers in the list\n",
    "    positive_nums = nums[positive_count:]\n",
    "\n",
    "    # Mark visited positive integers\n",
    "    for i in range(len(positive_nums)):\n",
    "        num = abs(positive_nums[i])\n",
    "        if num <= len(positive_nums):\n",
    "            positive_nums[num - 1] = -abs(positive_nums[num - 1])\n",
    "\n",
    "    # Find the first missing positive integer\n",
    "    for i in range(len(positive_nums)):\n",
    "        if positive_nums[i] > 0:\n",
    "            return i + 1\n",
    "\n",
    "    return len(positive_nums) + 1"
   ]
  },
  {
   "cell_type": "code",
   "execution_count": null,
   "id": "a8b18085-c887-4f60-a806-5e6c2d7b7bba",
   "metadata": {},
   "outputs": [],
   "source": []
  }
 ],
 "metadata": {
  "kernelspec": {
   "display_name": "Python 3 (ipykernel)",
   "language": "python",
   "name": "python3"
  },
  "language_info": {
   "codemirror_mode": {
    "name": "ipython",
    "version": 3
   },
   "file_extension": ".py",
   "mimetype": "text/x-python",
   "name": "python",
   "nbconvert_exporter": "python",
   "pygments_lexer": "ipython3",
   "version": "3.10.8"
  }
 },
 "nbformat": 4,
 "nbformat_minor": 5
}
