{
 "cells": [
  {
   "cell_type": "markdown",
   "id": "3d771dc1-69e8-4065-b1f5-5e92d7caaa3f",
   "metadata": {},
   "source": [
    "## Choose a project from an internship portal and try to write a HLD and LLD based on the sample given in your portal for a respective project  . \n"
   ]
  },
  {
   "cell_type": "markdown",
   "id": "71b00024-3b55-4b9c-ae3a-a8baa1ef0b1c",
   "metadata": {},
   "source": [
    "HLD and LLD based on the CIFAR-10 image classification project:\n",
    "\n",
    "High-Level Design (HLD)\n",
    "\n",
    "The project will use a neural network to classify images of 10 different objects.\n",
    "The neural network will be a convolutional neural network (CNN).\n",
    "The CNN will be trained on the CIFAR-10 dataset.\n",
    "The CIFAR-10 dataset contains 60,000 training images and 10,000 test images.\n",
    "The CNN will be implemented in Python using the PyTorch library.\n",
    "The CNN will be trained using the Adam optimizer and the cross-entropy loss function.\n",
    "The CNN will be evaluated on the test set.\n",
    "Low-Level Design (LLD)\n",
    "\n",
    "The CNN will have three convolutional layers and three fully connected layers.\n",
    "The convolutional layers will use 32, 64, and 128 filters, respectively.\n",
    "The fully connected layers will have 512, 256, and 10 neurons, respectively.\n",
    "The CNN will be trained for 20 epochs.\n",
    "The learning rate will start at 0.01 and will be decayed by 0.1 after each epoch.\n",
    "The accuracy of the CNN on the test set should be greater than 80%."
   ]
  }
 ],
 "metadata": {
  "kernelspec": {
   "display_name": "Python 3 (ipykernel)",
   "language": "python",
   "name": "python3"
  },
  "language_info": {
   "codemirror_mode": {
    "name": "ipython",
    "version": 3
   },
   "file_extension": ".py",
   "mimetype": "text/x-python",
   "name": "python",
   "nbconvert_exporter": "python",
   "pygments_lexer": "ipython3",
   "version": "3.10.8"
  }
 },
 "nbformat": 4,
 "nbformat_minor": 5
}
