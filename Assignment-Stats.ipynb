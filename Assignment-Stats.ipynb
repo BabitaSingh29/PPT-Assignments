{
 "cells": [
  {
   "cell_type": "markdown",
   "id": "b899c91a-a62f-464e-960d-a876703e32b6",
   "metadata": {},
   "source": [
    "## 1. Scenario: A company wants to analyze the sales performance of its products in different regions. They have collected the following data:\n",
    "  ### Region A: [10, 15, 12, 8, 14]\n",
    "  ### Region B: [18, 20, 16, 22, 25]\n",
    "   ### Calculate the mean sales for each region.\n"
   ]
  },
  {
   "cell_type": "raw",
   "id": "ffc2e041-0d7a-4587-a28a-d249b46cad7d",
   "metadata": {},
   "source": [
    " Region A:\n",
    "Sales data: [10, 15, 12, 8, 14]\n",
    "Total Number of data points: 5\n",
    "Mean sales for Region A = (10 + 15 + 12 + 8 + 14) / 5\n",
    "= 59 / 5\n",
    "= 11.8\n",
    "\n",
    "Region B:\n",
    "Sales data: [18, 20, 16, 22, 25]\n",
    "Total Number of data points: 5\n",
    "Mean sales for Region B = (18 + 20 + 16 + 22 + 25) / 5\n",
    "= 101 / 5\n",
    "= 20.2\n"
   ]
  },
  {
   "cell_type": "markdown",
   "id": "5a6cfb96-2aa7-4cc4-92e1-62b9086dcd81",
   "metadata": {},
   "source": [
    "## 2. Scenario: A survey is conducted to measure customer satisfaction on a scale of 1 to 5. The data collected is as follows:\n",
    "   ### [4, 5, 2, 3, 5, 4, 3, 2, 4, 5]\n",
    "  ###  Calculate the mode of the survey responses.\n"
   ]
  },
  {
   "cell_type": "raw",
   "id": "6a060c4f-f753-4879-8c46-0abec6cbe962",
   "metadata": {},
   "source": [
    "In this case, both value 4 and value 5 appear three times, which is the highest frequency in the dataset.\n",
    "\n",
    "Therefore, the mode of the survey responses is 4 and 5."
   ]
  },
  {
   "cell_type": "markdown",
   "id": "edece2b4-114e-4728-b99f-d139fa226c49",
   "metadata": {},
   "source": [
    "## 3. Scenario: A company wants to compare the salaries of two departments. The salary data for Department A and Department B are as follows:\n",
    "   ### Department A: [5000, 6000, 5500, 7000]\n",
    "   ### Department B: [4500, 5500, 5800, 6000, 5200]\n",
    "   ### Calculate the median salary for each department.\n"
   ]
  },
  {
   "cell_type": "raw",
   "id": "3cc3953f-f377-41bb-b428-2204cfed610b",
   "metadata": {},
   "source": [
    "Department A:\n",
    "Salary data: [5000, 6000, 5500, 7000]\n",
    "\n",
    "Data in ascending order:\n",
    "[5000, 5500, 6000, 7000]\n",
    "\n",
    "Since the number of data points is even (4), the median is the average of the two middle values:\n",
    "Median salary for Department A = (5500 + 6000) / 2\n",
    "= 11500 / 2\n",
    "= 5750"
   ]
  },
  {
   "cell_type": "markdown",
   "id": "2bb37b5d-36d9-49e5-945f-ca478fa94cb9",
   "metadata": {},
   "source": [
    "## 4. Scenario: A data analyst wants to determine the variability in the daily stock prices of a company. The data collected is as follows:\n",
    "  ##  [25.5, 24.8, 26.1, 25.3, 24.9]\n",
    " ##  Calculate the range of the stock prices.\n"
   ]
  },
  {
   "cell_type": "code",
   "execution_count": 1,
   "id": "5184303d-555d-4944-b108-ce547d022fba",
   "metadata": {},
   "outputs": [
    {
     "name": "stdout",
     "output_type": "stream",
     "text": [
      "The range of the stock prices is: 1.3000000000000007\n"
     ]
    }
   ],
   "source": [
    "import pandas as pd\n",
    "import numpy as np\n",
    "\n",
    "# Create a list of stock prices\n",
    "stock_prices = [25.5, 24.8, 26.1, 25.3, 24.9]\n",
    "\n",
    "# Calculate the range of the stock prices\n",
    "range = max(stock_prices) - min(stock_prices)\n",
    "\n",
    "# Print the range of the stock prices\n",
    "print(\"The range of the stock prices is:\", range)"
   ]
  },
  {
   "cell_type": "markdown",
   "id": "d6289467-8c33-4057-906c-5131e1628a4d",
   "metadata": {},
   "source": [
    "## 5. Scenario: A study is conducted to compare the performance of two different teaching methods. The test scores of the students in each group are as follows:\n",
    "   ### Group A: [85, 90, 92, 88, 91]\n",
    "   ### Group B: [82, 88, 90, 86, 87]\n",
    "   ### Perform a t-test to determine if there is a significant difference in the mean scores between the two groups.\n"
   ]
  },
  {
   "cell_type": "code",
   "execution_count": 6,
   "id": "b30a32b0-5bcd-42b8-8afc-c549ca494558",
   "metadata": {},
   "outputs": [
    {
     "name": "stdout",
     "output_type": "stream",
     "text": [
      "P value is 0.19023970239078333: Failed to reject Null hypothesis. There is no significant difference in the mean scores between the groups\n"
     ]
    }
   ],
   "source": [
    "A = [85, 90, 92, 88, 91]\n",
    "B = [82, 88, 90, 86, 87]\n",
    "_ , p_val = stats.ttest_ind(A,B)\n",
    "alpha = 0.05\n",
    "if p_val < alpha:\n",
    "    print(f\"P value is {p_val}: Null hypothesis rejected . There is a significant difference in the mean scores between the groups\")\n",
    "else:\n",
    "    print(f\"P value is {p_val}: Failed to reject Null hypothesis. There is no significant difference in the mean scores between the groups\")"
   ]
  },
  {
   "cell_type": "markdown",
   "id": "3f34f6d3-5c4a-4952-a2e5-edb673253c1b",
   "metadata": {},
   "source": [
    "## 6. Scenario: A company wants to analyze the relationship between advertising expenditure and sales. The data collected is as follows:\n",
    "  ### Advertising Expenditure (in thousands): [10, 15, 12, 8, 14]\n",
    "  ### Sales (in thousands): [25, 30, 28, 20, 26]\n",
    "  ## Calculate the correlation coefficient between advertising expenditure and sales.\n"
   ]
  },
  {
   "cell_type": "code",
   "execution_count": 3,
   "id": "0443fb50-7d42-4e78-9abd-2b504541a8a0",
   "metadata": {},
   "outputs": [
    {
     "name": "stdout",
     "output_type": "stream",
     "text": [
      "Correlation Coefficient: 0.8757511375750132\n"
     ]
    }
   ],
   "source": [
    "import numpy as np\n",
    "\n",
    "# Define the advertising expenditure and sales data\n",
    "advertising_expenditure = [10, 15, 12, 8, 14]\n",
    "sales = [25, 30, 28, 20, 26]\n",
    "\n",
    "# Calculate the correlation coefficient\n",
    "correlation_coefficient = np.corrcoef(advertising_expenditure, sales)[0, 1]\n",
    "\n",
    "# Print the correlation coefficient\n",
    "print(\"Correlation Coefficient:\", correlation_coefficient)"
   ]
  },
  {
   "cell_type": "markdown",
   "id": "ea83cae1-1fec-4cbd-af24-25649d5b8763",
   "metadata": {},
   "source": [
    "## 7. Scenario: A survey is conducted to measure the heights of a group of people. The data collected is as follows:\n",
    "  ### [160, 170, 165, 155, 175, 180, 170]\n",
    "  ### Calculate the standard deviation of the heights.\n"
   ]
  },
  {
   "cell_type": "code",
   "execution_count": 4,
   "id": "163447a6-1d20-408b-bb7b-66dd88bfc173",
   "metadata": {},
   "outputs": [
    {
     "name": "stdout",
     "output_type": "stream",
     "text": [
      "Standard Deviation: 7.953949089757174\n"
     ]
    }
   ],
   "source": [
    "import numpy as np\n",
    "\n",
    "# Define the heights data\n",
    "heights = [160, 170, 165, 155, 175, 180, 170]\n",
    "\n",
    "# Calculate the standard deviation\n",
    "standard_deviation = np.std(heights)\n",
    "\n",
    "# Print the standard deviation\n",
    "print(\"Standard Deviation:\", standard_deviation)"
   ]
  },
  {
   "cell_type": "markdown",
   "id": "91f2c1f8-0a04-448d-8f80-91a97c74150a",
   "metadata": {},
   "source": [
    "## 8. Scenario: A company wants to analyze the relationship between employee tenure and job satisfaction. The data collected is as follows:\n",
    "  ### Employee Tenure (in years): [2, 3, 5, 4, 6, 2, 4]\n",
    "  ### Job Satisfaction (on a scale of 1 to 10): [7, 8, 6, 9, 5, 7, 6]\n",
    "  ### Perform a linear regression analysis to predict job satisfaction based on employee tenure.\n",
    "\n"
   ]
  },
  {
   "cell_type": "code",
   "execution_count": 7,
   "id": "9a994f88-26bc-4292-942a-f5b3c81d6942",
   "metadata": {},
   "outputs": [
    {
     "name": "stdout",
     "output_type": "stream",
     "text": [
      "The linear equation for prediction of Job Satisfaction from Employee Tenure by ordinary least squares is:\n",
      "Job Satisfaction = -0.4680851063829787* Employee Tenure + 8.595744680851062\n",
      "The p-values is: 0.23095550952297988\n"
     ]
    }
   ],
   "source": [
    "Tenure = [2, 3, 5, 4, 6, 2, 4]\n",
    "Satisfaction = [7, 8, 6, 9, 5, 7, 6]\n",
    "result = stats.linregress(Tenure,Satisfaction)\n",
    "print(\"The linear equation for prediction of Job Satisfaction from Employee Tenure by ordinary least squares is:\")\n",
    "print(f\"Job Satisfaction = {result.slope}* Employee Tenure + {result.intercept}\")\n",
    "print(f\"The p-values is: {result.pvalue}\")"
   ]
  },
  {
   "cell_type": "markdown",
   "id": "b556eb0a-16e6-414f-ae15-8bbe292a6153",
   "metadata": {},
   "source": [
    "## 9. Scenario: A study is conducted to compare the effectiveness of two different medications. The recovery times of the patients in each group are as follows:\n",
    "   ### Medication A: [10, 12, 14, 11, 13]\n",
    "   ###  Medication B: [15, 17, 16, 14, 18]\n",
    "   ### Perform an analysis of variance (ANOVA) to determine if there is a significant difference in the mean recovery times between the two medications.\n"
   ]
  },
  {
   "cell_type": "code",
   "execution_count": 10,
   "id": "e783c3fe-f083-4abd-bcf8-b73cd9b4d0b3",
   "metadata": {},
   "outputs": [
    {
     "name": "stdout",
     "output_type": "stream",
     "text": [
      "F-Value: 16.0\n",
      "P-Value: 0.003949772803445326\n",
      "Reject the null hypothesis\n"
     ]
    }
   ],
   "source": [
    "import numpy as np\n",
    "from scipy import stats\n",
    "\n",
    "# Define the recovery times for Medication A and Medication B\n",
    "medication_a = [10, 12, 14, 11, 13]\n",
    "medication_b = [15, 17, 16, 14, 18]\n",
    "\n",
    "# Perform one-way ANOVA\n",
    "f_value, p_value = stats.f_oneway(medication_a, medication_b)\n",
    "\n",
    "# Print the results\n",
    "print(\"F-Value:\", f_value)\n",
    "print(\"P-Value:\", p_value)\n",
    "alpha = 0.05\n",
    "if p_value < alpha:\n",
    "    print(\"Reject the null hypothesis\")\n",
    "else:\n",
    "    print(\"Accept null hypothesis\")"
   ]
  },
  {
   "cell_type": "markdown",
   "id": "2c9ddd91-7afa-476b-a863-3eea90290a8c",
   "metadata": {},
   "source": [
    "## 10. Scenario: A company wants to analyze customer feedback ratings on a scale of 1 to 10. The data collected is as follows:\n",
    "   ### [8, 9, 7, 6, 8, 10, 9, 8, 7, 8]\n",
    "   ## Calculate the 75th percentile of the feedback ratings.\n"
   ]
  },
  {
   "cell_type": "code",
   "execution_count": 11,
   "id": "794b60da-e537-464b-904b-e4c75205fc85",
   "metadata": {},
   "outputs": [
    {
     "name": "stdout",
     "output_type": "stream",
     "text": [
      "75th Percentile: 8.75\n"
     ]
    }
   ],
   "source": [
    "import numpy as np\n",
    "\n",
    "# Define the feedback ratings data\n",
    "feedback_ratings = [8, 9, 7, 6, 8, 10, 9, 8, 7, 8]\n",
    "\n",
    "# Calculate the 75th percentile\n",
    "percentile_75 = np.percentile(feedback_ratings, 75)\n",
    "\n",
    "# Print the 75th percentile\n",
    "print(\"75th Percentile:\", percentile_75)"
   ]
  },
  {
   "cell_type": "markdown",
   "id": "f157f828-2a46-4419-ab4b-5f3bfb195385",
   "metadata": {},
   "source": [
    "## 11. Scenario: A quality control department wants to test the weight consistency of a product. The weights of a sample of products are as follows:\n",
    "   ### [10.2, 9.8, 10.0, 10.5, 10.3, 10.1]\n",
    "   ### Perform a hypothesis test to determine if the mean weight differs significantly from 10 grams.\n"
   ]
  },
  {
   "cell_type": "code",
   "execution_count": 12,
   "id": "cf19125d-98c7-4de9-a07a-84f17f7cc108",
   "metadata": {},
   "outputs": [
    {
     "name": "stdout",
     "output_type": "stream",
     "text": [
      "T-Statistic: 1.5126584522688367\n",
      "P-Value: 0.19077595151110102\n"
     ]
    }
   ],
   "source": [
    "import numpy as np\n",
    "from scipy import stats\n",
    "\n",
    "# Define the weights of the sample\n",
    "weights = [10.2, 9.8, 10.0, 10.5, 10.3, 10.1]\n",
    "\n",
    "# Set the population mean for comparison\n",
    "population_mean = 10\n",
    "\n",
    "# Perform a one-sample t-test\n",
    "t_statistic, p_value = stats.ttest_1samp(weights, population_mean)\n",
    "\n",
    "# Print the results\n",
    "print(\"T-Statistic:\", t_statistic)\n",
    "print(\"P-Value:\", p_value)"
   ]
  },
  {
   "cell_type": "raw",
   "id": "858b78bb-0892-4499-85d8-061d3aa62862",
   "metadata": {},
   "source": [
    "The null hypothesis is rejected, indicating a significant difference."
   ]
  },
  {
   "cell_type": "markdown",
   "id": "ca50178b-0651-4a73-832b-71bf7698c20e",
   "metadata": {},
   "source": [
    "## 12. Scenario: A company wants to analyze the click-through rates of two different website designs. The number of clicks for each design is as follows:\n",
    "   ### Design A: [100, 120, 110, 90, 95]\n",
    "   ### Design B: [80, 85, 90, 95, 100]\n",
    "   ## Perform a chi-square test to determine if there is a significant difference in the click-through rates between the two designs.\n"
   ]
  },
  {
   "cell_type": "code",
   "execution_count": 21,
   "id": "4e78277e-2b4d-4704-b381-c817551690a3",
   "metadata": {},
   "outputs": [
    {
     "name": "stdout",
     "output_type": "stream",
     "text": [
      "Chi-Square Statistic: 6.110658166925435\n",
      "P-Value: 0.19103526314060293\n"
     ]
    }
   ],
   "source": [
    "import numpy as np\n",
    "from scipy import stats\n",
    "\n",
    "# Define the observed frequencies for Design A and Design B\n",
    "design_a = [100, 120, 110, 90, 95]\n",
    "design_b = [80, 85, 90, 95, 100]\n",
    "\n",
    "# Create a contingency table\n",
    "contingency_table = np.array([design_a, design_b])\n",
    "\n",
    "# Perform a chi-square test on the contingency table\n",
    "chi2_statistic, p_value, _, _ = stats.chi2_contingency(contingency_table)\n",
    "\n",
    "# Print the results\n",
    "print(\"Chi-Square Statistic:\", chi2_statistic)\n",
    "print(\"P-Value:\", p_value)"
   ]
  },
  {
   "cell_type": "raw",
   "id": "de998dcb-faaa-4aeb-9e40-4c4c5a456e40",
   "metadata": {},
   "source": [
    "Failed to reject Null hypothesis. There is no significant difference in the click-through rates between the two designs"
   ]
  },
  {
   "cell_type": "markdown",
   "id": "7a456ddc-3113-4dae-866b-8f2c2daf2cb3",
   "metadata": {},
   "source": [
    "## 13. Scenario: A survey is conducted to measure customer satisfaction with a product on a scale of 1 to 10. The data collected is as follows:\n",
    "   ### [7, 9, 6, 8, 10, 7, 8, 9, 7, 8]\n",
    "   ##  Calculate the 95% confidence interval for the population mean satisfaction score.\n"
   ]
  },
  {
   "cell_type": "code",
   "execution_count": 24,
   "id": "2915791a-bc70-4b6b-ba83-8f078d3605fb",
   "metadata": {},
   "outputs": [
    {
     "data": {
      "text/plain": [
       "(7.043561120599888, 8.756438879400113)"
      ]
     },
     "execution_count": 24,
     "metadata": {},
     "output_type": "execute_result"
    }
   ],
   "source": [
    "import numpy as np\n",
    "from scipy import stats\n",
    "survey = [7, 9, 6, 8, 10, 7, 8, 9, 7, 8]\n",
    "stats.t.interval(confidence=.95, df=len(survey)-1, loc=np.mean(survey), scale=stats.sem(survey))"
   ]
  },
  {
   "cell_type": "markdown",
   "id": "f0ef6a2e-41ab-482a-80b5-cc33708ff5ac",
   "metadata": {},
   "source": [
    "## 14. Scenario: A company wants to analyze the effect of temperature on product performance. The data collected is as follows:\n",
    "###  Temperature (in degrees Celsius): [20, 22, 23, 19, 21]\n",
    "   ### Performance (on a scale of 1 to 10): [8, 7, 9, 6, 8]\n",
    "   ### Perform a simple linear regression to predict performance based on temperature.\n"
   ]
  },
  {
   "cell_type": "code",
   "execution_count": 26,
   "id": "3ccede43-4139-4e3f-9583-f2fa0dd68166",
   "metadata": {},
   "outputs": [
    {
     "name": "stdout",
     "output_type": "stream",
     "text": [
      "Slope: 0.4999999999999999\n",
      "Intercept: -2.8999999999999986\n",
      "Predicted Performance: [7.1 8.1 8.6 6.6 7.6]\n"
     ]
    }
   ],
   "source": [
    "import numpy as np\n",
    "from sklearn.linear_model import LinearRegression\n",
    "\n",
    "# Define the temperature and performance data\n",
    "temperature = np.array([20, 22, 23, 19, 21]).reshape(-1, 1)\n",
    "performance = np.array([8, 7, 9, 6, 8])\n",
    "\n",
    "# Create a linear regression model and fit the data\n",
    "regression_model = LinearRegression()\n",
    "regression_model.fit(temperature, performance)\n",
    "\n",
    "# Predict performance based on temperature\n",
    "predicted_performance = regression_model.predict(temperature)\n",
    "\n",
    "# Print the coefficients (slope and intercept) of the linear regression model\n",
    "slope = regression_model.coef_[0]\n",
    "intercept = regression_model.intercept_\n",
    "print(\"Slope:\", slope)\n",
    "print(\"Intercept:\", intercept)\n",
    "\n",
    "# Print the predicted performance values\n",
    "print(\"Predicted Performance:\", predicted_performance)"
   ]
  },
  {
   "cell_type": "markdown",
   "id": "bd5329bd-2b19-4ae8-b74a-31bc3d013613",
   "metadata": {},
   "source": [
    "## 15. Scenario: A study is conducted to compare the preferences of two groups of participants. The preferences are measured on a Likert scale from 1 to 5. The data collected is as follows:\n",
    "   ### Group A: [4, 3, 5, 2, 4]\n",
    "   ### Group B: [3, 2, 4, 3, 3]\n",
    "   ### Perform a Mann-Whitney U test to determine if there is a significant difference in the median preferences between the two groups.\n"
   ]
  },
  {
   "cell_type": "code",
   "execution_count": 27,
   "id": "72b15640-0350-4bf6-8d64-cb3cdd1bd628",
   "metadata": {},
   "outputs": [
    {
     "name": "stdout",
     "output_type": "stream",
     "text": [
      "P value is 0.380836480306712: Failed to reject Null hypothesis. There is no significant difference.\n"
     ]
    }
   ],
   "source": [
    "A = [4, 3, 5, 2, 4]\n",
    "B = [3, 2, 4, 3, 3]\n",
    "result = stats.mannwhitneyu(A, B)\n",
    "if result.pvalue < alpha: \n",
    "    print(f\"P value is {result.pvalue}: Null hypothesis rejected . There is a significant difference in the median preferences between the two groups.\")\n",
    "else:\n",
    "    print(f\"P value is {result.pvalue}: Failed to reject Null hypothesis. There is no significant difference.\")"
   ]
  },
  {
   "cell_type": "markdown",
   "id": "4087ae1c-0b72-44c7-8d3f-9f937ed5d6fe",
   "metadata": {},
   "source": [
    "## 16. Scenario: A company wants to analyze the distribution of customer ages. The data collected is as follows:\n",
    "   ### [25, 30, 35, 40, 45, 50, 55, 60, 65, 70]\n",
    "   ### Calculate the interquartile range (IQR) of the ages.\n"
   ]
  },
  {
   "cell_type": "code",
   "execution_count": 30,
   "id": "435da273-7a8b-4bac-8acb-2faeb2deb872",
   "metadata": {},
   "outputs": [
    {
     "name": "stdout",
     "output_type": "stream",
     "text": [
      "The IQR is: 20.0\n"
     ]
    }
   ],
   "source": [
    "age = [25, 30, 35, 40, 45, 50, 55, 60, 65, 70]\n",
    "print(f\"The IQR is: {stats.iqr(age , interpolation='midpoint')}\")"
   ]
  },
  {
   "cell_type": "markdown",
   "id": "684b146b-fc32-48d7-92db-5c12c0df1c6a",
   "metadata": {},
   "source": [
    "## 17. Scenario: A study is conducted to compare the performance of three different machine learning algorithms. The accuracy scores for each algorithm are as follows:\n",
    "   ### Algorithm A: [0.85, 0.80, 0.82, 0.87, 0.83]\n",
    "   ### Algorithm B: [0.78, 0.82, 0.84, 0.80, 0.79]\n",
    "   ### Algorithm C: [0.90, 0.88, 0.89, 0.86, 0.87]\n",
    "   ## Perform a Kruskal-Wallis test to determine if there is a significant difference in the median accuracy scores between the algorithms.\n"
   ]
  },
  {
   "cell_type": "code",
   "execution_count": 31,
   "id": "3ecd5c2e-7945-4426-a549-d89de8e26f54",
   "metadata": {},
   "outputs": [
    {
     "name": "stdout",
     "output_type": "stream",
     "text": [
      "P value is 0.007840333026249539: Null hypothesis rejected . There is a significant difference in the median accuracy scores between the algorithms.\n"
     ]
    }
   ],
   "source": [
    "A = [0.85, 0.80, 0.82, 0.87, 0.83]\n",
    "B = [0.78, 0.82, 0.84, 0.80, 0.79]\n",
    "C = [0.90, 0.88, 0.89, 0.86, 0.87]\n",
    "_ , p_val = stats.kruskal(A,B,C)\n",
    "alpha = 0.05\n",
    "if p_val < alpha: \n",
    "    print(f\"P value is {p_val}: Null hypothesis rejected . There is a significant difference in the median accuracy scores between the algorithms.\")\n",
    "else:\n",
    "    print(f\"P value is {p_val}: Failed to reject Null hypothesis. There is no significant difference.\") "
   ]
  },
  {
   "cell_type": "markdown",
   "id": "6879c365-612c-414f-910f-34965e94d810",
   "metadata": {},
   "source": [
    "## 18. Scenario: A company wants to analyze the effect of price on sales. The data collected is as follows:\n",
    "   ### Price (in dollars): [10, 15, 12, 8, 14]\n",
    "   ### Sales: [100, 80, 90, 110, 95]\n",
    "   ## Perform a simple linear regression to predict sales based on price.\n"
   ]
  },
  {
   "cell_type": "code",
   "execution_count": 32,
   "id": "a1e62c39-93b8-41ef-b6f1-1f99aea47e8c",
   "metadata": {},
   "outputs": [
    {
     "name": "stdout",
     "output_type": "stream",
     "text": [
      "Slope: -3.5060975609756095\n",
      "Intercept: 136.3719512195122\n",
      "Predicted Sales: [101.31097561  83.7804878   94.29878049 108.32317073  87.28658537]\n"
     ]
    }
   ],
   "source": [
    "import numpy as np\n",
    "from sklearn.linear_model import LinearRegression\n",
    "\n",
    "# Define the price and sales data\n",
    "price = np.array([10, 15, 12, 8, 14]).reshape(-1, 1)\n",
    "sales = np.array([100, 80, 90, 110, 95])\n",
    "\n",
    "# Create a linear regression model and fit the data\n",
    "regression_model = LinearRegression()\n",
    "regression_model.fit(price, sales)\n",
    "\n",
    "# Predict sales based on price\n",
    "predicted_sales = regression_model.predict(price)\n",
    "\n",
    "# Print the coefficients (slope and intercept) of the linear regression model\n",
    "slope = regression_model.coef_[0]\n",
    "intercept = regression_model.intercept_\n",
    "print(\"Slope:\", slope)\n",
    "print(\"Intercept:\", intercept)\n",
    "\n",
    "# Print the predicted sales values\n",
    "print(\"Predicted Sales:\", predicted_sales)"
   ]
  },
  {
   "cell_type": "markdown",
   "id": "83249b4f-275a-46c0-bdbf-87a77ebbc904",
   "metadata": {},
   "source": [
    "## 19. Scenario: A survey is conducted to measure the satisfaction levels of customers with a new product. The data collected is as follows:\n",
    "   ### [7, 8, 9, 6, 8, 7, 9, 7, 8, 7]\n",
    "   ## Calculate the standard error of the mean satisfaction score.\n"
   ]
  },
  {
   "cell_type": "code",
   "execution_count": 34,
   "id": "887a8813-5e1f-4e92-b6f2-1268654e3941",
   "metadata": {},
   "outputs": [
    {
     "name": "stdout",
     "output_type": "stream",
     "text": [
      "The standard error of mean is : 0.30550504633038933\n"
     ]
    }
   ],
   "source": [
    "survey = [7, 8, 9, 6, 8, 7, 9, 7, 8, 7]\n",
    "print(f\"The standard error of mean is : {stats.sem(survey)}\")"
   ]
  },
  {
   "cell_type": "markdown",
   "id": "b4da6d02-802d-4de5-8051-dc5481fc0288",
   "metadata": {},
   "source": [
    "## 20. Scenario: A company wants to analyze the relationship between advertising expenditure and sales. The data collected is as follows:\n",
    "   ### Advertising Expenditure (in thousands): [10, 15, 12, 8, 14]\n",
    "   ### Sales (in thousands): [25, 30, 28, 20, 26]\n",
    "   ## Perform a multiple regression analysis to predict sales based on advertising expenditure.\n"
   ]
  },
  {
   "cell_type": "code",
   "execution_count": 35,
   "id": "d2906223-5665-4890-a218-acf419791e59",
   "metadata": {},
   "outputs": [
    {
     "name": "stdout",
     "output_type": "stream",
     "text": [
      "Slope: 1.152439024390244\n",
      "Intercept: 12.20121951219512\n",
      "Predicted Sales: [23.72560976 29.48780488 26.0304878  21.42073171 28.33536585]\n"
     ]
    }
   ],
   "source": [
    "import numpy as np\n",
    "from sklearn.linear_model import LinearRegression\n",
    "\n",
    "# Define the advertising expenditure and sales data\n",
    "advertising_expenditure = np.array([10, 15, 12, 8, 14]).reshape(-1, 1)\n",
    "sales = np.array([25, 30, 28, 20, 26])\n",
    "\n",
    "# Create a linear regression model and fit the data\n",
    "regression_model = LinearRegression()\n",
    "regression_model.fit(advertising_expenditure, sales)\n",
    "\n",
    "# Print the coefficients (slope and intercept) of the multiple regression model\n",
    "slope = regression_model.coef_[0]\n",
    "intercept = regression_model.intercept_\n",
    "print(\"Slope:\", slope)\n",
    "print(\"Intercept:\", intercept)\n",
    "\n",
    "# Predict sales based on advertising expenditure\n",
    "predicted_sales = regression_model.predict(advertising_expenditure)\n",
    "\n",
    "# Print the predicted sales values\n",
    "print(\"Predicted Sales:\", predicted_sales)"
   ]
  }
 ],
 "metadata": {
  "kernelspec": {
   "display_name": "Python 3 (ipykernel)",
   "language": "python",
   "name": "python3"
  },
  "language_info": {
   "codemirror_mode": {
    "name": "ipython",
    "version": 3
   },
   "file_extension": ".py",
   "mimetype": "text/x-python",
   "name": "python",
   "nbconvert_exporter": "python",
   "pygments_lexer": "ipython3",
   "version": "3.10.8"
  }
 },
 "nbformat": 4,
 "nbformat_minor": 5
}
